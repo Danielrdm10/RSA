{
 "cells": [
  {
   "cell_type": "code",
   "execution_count": 4,
   "id": "f96b0719",
   "metadata": {},
   "outputs": [
    {
     "name": "stdout",
     "output_type": "stream",
     "text": [
      "digite a mensagem:\n",
      "Olá, mundo!\n",
      "Sua mensagem encriptada e que deverá ser enviada é:\n",
      " [658702, 134576, 905856, 623669, 789952, 698498, 346384, 177874, 195990, 658702, 131961]\n"
     ]
    }
   ],
   "source": [
    "mensagem = input(\"digite a mensagem:\\n\").upper()\n",
    "\n",
    "#CODIFICAR\n",
    "\n",
    "#Códificação clara (LETRA PARA NÚMERO) da mensagem em bloco de 2\n",
    "mens_claro = []\n",
    "for i in mensagem:\n",
    "    mens_claro.append(ord(i)) #ord é uma função do python para converter caracteres em código ascii\n",
    "\n",
    "#escolher dois números primos\n",
    "p = 977 #PRIVADO - só quem vai decriptar sabe\n",
    "q = 983 #PRIVADO - só quem vai decriptar sabe\n",
    "n = p * q #PÚBLICO - chave de codificação para encriptar, deve ser maior que cada bloco de codificação\n",
    "x = 7 #PÚBLICO - expoente que será usado para encriptar, deve ser coprimo com n\n",
    "\n",
    "# função para encriptar: \n",
    "#   (código que quer encriptar)**x ≡ (código encriptado)(mod n) - nota-se que se usou n e x, ambos públicos. \n",
    "\n",
    "mens_criptografada = [(i**x) % n for i in mens_claro] #aplicando a função a cada caractere da mensagem. \n",
    "print(f'Sua mensagem encriptada e que deverá ser enviada é:\\n {list(mens_criptografada)}')"
   ]
  },
  {
   "cell_type": "code",
   "execution_count": 5,
   "id": "942693d5",
   "metadata": {},
   "outputs": [
    {
     "name": "stdout",
     "output_type": "stream",
     "text": [
      "A mensagem decriptada é:\n",
      "OLÁ, MUNDO!\n"
     ]
    }
   ],
   "source": [
    "# DECODIFICAR\n",
    "\n",
    "# precisa:\n",
    "#  - do n(módulo) PÚBLICO\n",
    "#  - do d PRIVADO, que é obtido a partir de p(PRIVADO) e q(PRIVADO), onde: d = inverso de x [mod(p-1)x(q-1)], e será o expoente para decriptar.\n",
    "# resumindo: x * d ≡ 1( mod( (p-1)*(q-1) ))\n",
    "\n",
    "modulo_decript = (p-1) * (q-1) #modulo que será usado para decriptar\n",
    "\n",
    "for i in range(modulo_decript): #Calcular o inverso de x, ou seja, qual número que, multiplicado por x, resulta em resto 1.\n",
    "    if (x*i % (modulo_decript)) == 1: #calculando o inverso \"d\", realiza um for e testa uma sequencia de números até encontrar o resto 1, e quando encontra, break. \n",
    "        d = i #expoente para decodificação encontrado\n",
    "        break\n",
    "\n",
    "mens_em_codigo = [(i**d) % n for i in mens_criptografada] #mesma função pra encriptar, mas agora com o expoente d, encontrado anteriormente. \n",
    "\n",
    "mens_descriptografada = []\n",
    "for i in mens_em_codigo:\n",
    "    mens_descriptografada.append(chr(i)) #chr é uma função do python que converte código ascii em caratere\n",
    "\n",
    "mensagem = ''.join(mens_descriptografada)\n",
    "    \n",
    "print(f\"A mensagem decriptada é:\\n{mensagem}\")"
   ]
  }
 ],
 "metadata": {
  "kernelspec": {
   "display_name": "Python 3 (ipykernel)",
   "language": "python",
   "name": "python3"
  },
  "language_info": {
   "codemirror_mode": {
    "name": "ipython",
    "version": 3
   },
   "file_extension": ".py",
   "mimetype": "text/x-python",
   "name": "python",
   "nbconvert_exporter": "python",
   "pygments_lexer": "ipython3",
   "version": "3.10.9"
  }
 },
 "nbformat": 4,
 "nbformat_minor": 5
}
